{
 "cells": [
  {
   "cell_type": "code",
   "execution_count": 119,
   "id": "c4118f29-6d7e-4c74-b9d2-2ecd9cb51a44",
   "metadata": {},
   "outputs": [],
   "source": [
    "import requests\n",
    "from bs4 import BeautifulSoup as bs\n",
    "from urllib.request import urlopen as Ureq\n",
    "import logging\n",
    "import time"
   ]
  },
  {
   "cell_type": "code",
   "execution_count": 195,
   "id": "3e500237-3a58-49ea-99e0-66a65c8c2ca5",
   "metadata": {},
   "outputs": [],
   "source": [
    "computech_url = \"https://www.computechstore.in\" + \"/product-category/motherboard/\""
   ]
  },
  {
   "cell_type": "code",
   "execution_count": 196,
   "id": "4c2812ee-c29a-4345-b6d1-6e1e88b2dea8",
   "metadata": {},
   "outputs": [
    {
     "data": {
      "text/plain": [
       "'https://www.computechstore.in/product-category/motherboard/'"
      ]
     },
     "execution_count": 196,
     "metadata": {},
     "output_type": "execute_result"
    }
   ],
   "source": [
    "computech_url"
   ]
  },
  {
   "cell_type": "code",
   "execution_count": 197,
   "id": "2d9b54a8-118b-4783-bf6b-85f9b78583d9",
   "metadata": {},
   "outputs": [],
   "source": [
    "urlclient = Ureq(computech_url)"
   ]
  },
  {
   "cell_type": "code",
   "execution_count": 198,
   "id": "1fae3472-cb2e-47d7-98a2-aa3819db641d",
   "metadata": {},
   "outputs": [
    {
     "data": {
      "text/plain": [
       "<http.client.HTTPResponse at 0x786aeab94d90>"
      ]
     },
     "execution_count": 198,
     "metadata": {},
     "output_type": "execute_result"
    }
   ],
   "source": [
    "urlclient"
   ]
  },
  {
   "cell_type": "code",
   "execution_count": 199,
   "id": "1a11cf2f-fb2a-4da5-9b51-cfb85844a499",
   "metadata": {},
   "outputs": [],
   "source": [
    "computech_page = urlclient.read()"
   ]
  },
  {
   "cell_type": "code",
   "execution_count": 200,
   "id": "c8ae274e-cf11-45e3-b8e0-651f338c9396",
   "metadata": {},
   "outputs": [],
   "source": [
    "computech_html = bs(computech_page,'html.parser')"
   ]
  },
  {
   "cell_type": "code",
   "execution_count": 201,
   "id": "b10c0316-75bb-432e-8496-c5aeb5c973de",
   "metadata": {},
   "outputs": [],
   "source": [
    "#bigbox = computech_html.findAll(\"div\" , {\"class\" :\"nasa-content-page-products nasa-hoz-buttons\"})"
   ]
  },
  {
   "cell_type": "code",
   "execution_count": 202,
   "id": "3bd34364-0d7b-4b21-9ead-06493114b7a3",
   "metadata": {},
   "outputs": [],
   "source": [
    "#product-info-wrap info\n",
    "bigbox = computech_html.findAll(\"div\" , {\"class\" :\"product-info-wrap info\"})"
   ]
  },
  {
   "cell_type": "code",
   "execution_count": 203,
   "id": "0517ba06-08e1-4ac0-986d-69a632f29a25",
   "metadata": {},
   "outputs": [
    {
     "data": {
      "text/plain": [
       "16"
      ]
     },
     "execution_count": 203,
     "metadata": {},
     "output_type": "execute_result"
    }
   ],
   "source": [
    "len(bigbox)"
   ]
  },
  {
   "cell_type": "code",
   "execution_count": 204,
   "id": "56957ff9-7b61-4bee-934e-237f5117e236",
   "metadata": {},
   "outputs": [],
   "source": [
    "product_link = bigbox[3].a['href']"
   ]
  },
  {
   "cell_type": "code",
   "execution_count": 225,
   "id": "16e8c7f6-05de-4ef4-bad4-98faeaa2c46c",
   "metadata": {},
   "outputs": [
    {
     "name": "stdout",
     "output_type": "stream",
     "text": [
      "https://computechstore.in/product/ant-value-b365mad4-n/\n",
      "https://computechstore.in/product/ant-value-b450mad4-n-motherboard/\n",
      "https://computechstore.in/product/ant-value-g41mad3-motherboard/\n",
      "https://computechstore.in/product/ant-value-h110mad4-n-motherboard/\n",
      "https://computechstore.in/product/ant-value-h61mad3-n-motherboard/\n",
      "https://computechstore.in/product/asrock-b450m-hdv-r4/\n",
      "https://computechstore.in/product/asrock-b650e-steel-legend/\n",
      "https://computechstore.in/product/asrock-h510m-hdv-m-2/\n",
      "https://computechstore.in/product/asrock-h610m-hdv/\n",
      "https://computechstore.in/product/asus-b760m-ayw-wifi-motherboard/\n",
      "https://computechstore.in/product/asus-ex-b560m-v5-motherboard/\n",
      "https://computechstore.in/product/asus-ex-b760m-v5-ddr5/\n",
      "https://computechstore.in/product/asus-ex-b760m-v5-d4/\n",
      "https://computechstore.in/product/asus-prime-a320m-k-motherboard/\n",
      "https://computechstore.in/product/asus-prime-a520m-k/\n",
      "https://computechstore.in/product/asus-prime-b450m-a-ii/\n"
     ]
    }
   ],
   "source": [
    "for i in bigbox:\n",
    "    print(i.a['href'])"
   ]
  },
  {
   "cell_type": "code",
   "execution_count": 205,
   "id": "de8911a8-e370-415e-84d8-6519d3d6f359",
   "metadata": {},
   "outputs": [],
   "source": [
    "product_request = requests.get(product_link)"
   ]
  },
  {
   "cell_type": "code",
   "execution_count": 206,
   "id": "b54fac72-367f-4a20-8776-f2bfd1137e13",
   "metadata": {},
   "outputs": [],
   "source": [
    "product_html = bs(product_request.text,'html.parser')"
   ]
  },
  {
   "cell_type": "code",
   "execution_count": 207,
   "id": "ad0f080e-05fe-4087-b891-ebcfde7b736d",
   "metadata": {},
   "outputs": [],
   "source": [
    "comment = product_html.find(\"div\",{'class':'nasa-scroll-content nasa-content-specifications nasa-desc-wrap'})"
   ]
  },
  {
   "cell_type": "code",
   "execution_count": 220,
   "id": "aafbc590-6e6e-4255-8838-a6e053d50c4d",
   "metadata": {},
   "outputs": [],
   "source": [
    "specification = comment.div.findAll('div',{'class':'large-12 columns nasa-content-panel'})\n",
    "#class':'large-12 columns nasa-content-panel"
   ]
  },
  {
   "cell_type": "code",
   "execution_count": 224,
   "id": "56707ec2-4db2-47fc-a39b-3e1e782662fd",
   "metadata": {},
   "outputs": [
    {
     "name": "stdout",
     "output_type": "stream",
     "text": [
      "\n",
      "\n",
      "\n",
      "\n",
      "\n",
      "Model\n",
      "H110MAD4-N\n",
      "\n",
      "\n",
      "CPU Spports\n",
      "Intel Socket 1151 for 7th/6th Generation Core i7/Core i5/Core i3/Pentium/Celeron Processors Supports Intel 14nm CPU Supports Intel Turbo Boost Technology 2.0\n",
      "\n",
      "\n",
      "Chipset\n",
      "Intel H110\n",
      "\n",
      "\n",
      "CPU Socket\n",
      "LGA-1151\n",
      "\n",
      "\n",
      "Expansion Slots\n",
      "1 x PCI-E x 16 slot\n",
      "\n",
      "\n",
      "Display Interface\n",
      "1 x VGA Port + 1 x HDMI Port\n",
      "\n",
      "\n",
      "Memory Support\n",
      "2 x DDR4 2133Mhz\n",
      "\n",
      "\n",
      "Storage\n",
      "1 x M.2 SSD Slots, 4 x SATA III 6Gb/s Ports\n",
      "\n",
      "\n",
      "USB Ports\n",
      "\n",
      "\n",
      "4 x USB 3.0 Ports\n",
      "6 x USB 2.0 Ports\n",
      "\n",
      "\n",
      "\n",
      "\n",
      "LAN\n",
      "Realtek 10/100 Mbps LAN\n",
      "\n",
      "\n",
      "Audio\n",
      "Realtek 662 Flexible 6-Channel\n",
      "\n",
      "\n",
      "Warranty\n",
      "2 Years\n",
      "\n",
      "\n",
      "Note\n",
      "***Features, Price and Specifications are subject to change without notice.\n",
      "\n",
      "\n",
      "\n",
      " \n"
     ]
    }
   ],
   "source": [
    " for i in comment:\n",
    "        print(i.text)\n",
    "    "
   ]
  },
  {
   "cell_type": "code",
   "execution_count": 226,
   "id": "f5650595-5265-4121-be49-035e5d8dae41",
   "metadata": {},
   "outputs": [
    {
     "data": {
      "text/plain": [
       "<div class=\"nasa-scroll-content nasa-content-specifications nasa-desc-wrap\" id=\"nasa-scroll-specifications\">\n",
       "<div class=\"row\"><div class=\"large-12 columns nasa-content-panel\"><table border=\"1\" cellpadding=\"0\" cellspacing=\"0\">\n",
       "<tbody>\n",
       "<tr bgcolor=\"#f3f3f3\">\n",
       "<td>Model</td>\n",
       "<td>H110MAD4-N</td>\n",
       "</tr>\n",
       "<tr bgcolor=\"\">\n",
       "<td>CPU Spports</td>\n",
       "<td>Intel Socket 1151 for 7th/6th Generation Core i7/Core i5/Core i3/Pentium/Celeron Processors Supports Intel 14nm CPU Supports Intel Turbo Boost Technology 2.0</td>\n",
       "</tr>\n",
       "<tr bgcolor=\"#f3f3f3\">\n",
       "<td>Chipset</td>\n",
       "<td>Intel H110</td>\n",
       "</tr>\n",
       "<tr bgcolor=\"\">\n",
       "<td>CPU Socket</td>\n",
       "<td>LGA-1151</td>\n",
       "</tr>\n",
       "<tr bgcolor=\"#f3f3f3\">\n",
       "<td>Expansion Slots</td>\n",
       "<td>1 x PCI-E x 16 slot</td>\n",
       "</tr>\n",
       "<tr bgcolor=\"\">\n",
       "<td>Display Interface</td>\n",
       "<td>1 x VGA Port + 1 x HDMI Port</td>\n",
       "</tr>\n",
       "<tr bgcolor=\"#f3f3f3\">\n",
       "<td>Memory Support</td>\n",
       "<td>2 x DDR4 2133Mhz</td>\n",
       "</tr>\n",
       "<tr bgcolor=\"\">\n",
       "<td>Storage</td>\n",
       "<td>1 x M.2 SSD Slots, 4 x SATA III 6Gb/s Ports</td>\n",
       "</tr>\n",
       "<tr bgcolor=\"#f3f3f3\">\n",
       "<td>USB Ports</td>\n",
       "<td>\n",
       "<ul>\n",
       "<li>4 x USB 3.0 Ports</li>\n",
       "<li>6 x USB 2.0 Ports</li>\n",
       "</ul>\n",
       "</td>\n",
       "</tr>\n",
       "<tr bgcolor=\"\">\n",
       "<td>LAN</td>\n",
       "<td>Realtek 10/100 Mbps LAN</td>\n",
       "</tr>\n",
       "<tr bgcolor=\"\">\n",
       "<td>Audio</td>\n",
       "<td>Realtek 662 Flexible 6-Channel</td>\n",
       "</tr>\n",
       "<tr bgcolor=\"#f3f3f3\">\n",
       "<td>Warranty</td>\n",
       "<td>2 Years</td>\n",
       "</tr>\n",
       "<tr bgcolor=\"\">\n",
       "<td>Note</td>\n",
       "<td>***Features, Price and Specifications are subject to change without notice.</td>\n",
       "</tr>\n",
       "</tbody>\n",
       "</table></div></div> </div>"
      ]
     },
     "execution_count": 226,
     "metadata": {},
     "output_type": "execute_result"
    }
   ],
   "source": [
    "comment"
   ]
  },
  {
   "cell_type": "code",
   "execution_count": null,
   "id": "a01f42ec-83c3-4514-a4cf-025cf1b4b967",
   "metadata": {},
   "outputs": [],
   "source": []
  },
  {
   "cell_type": "code",
   "execution_count": null,
   "id": "3ac69941-6077-4c34-9978-cdd2e47b968e",
   "metadata": {},
   "outputs": [],
   "source": []
  },
  {
   "cell_type": "code",
   "execution_count": null,
   "id": "f75916b7-dea9-4695-af89-47186215fed4",
   "metadata": {},
   "outputs": [],
   "source": []
  },
  {
   "cell_type": "code",
   "execution_count": null,
   "id": "b1365ac3-480f-4739-995c-9087bacfeb23",
   "metadata": {},
   "outputs": [],
   "source": []
  },
  {
   "cell_type": "code",
   "execution_count": null,
   "id": "8f55fcd3-a9c4-4197-9818-1a43d6d94be4",
   "metadata": {},
   "outputs": [],
   "source": []
  },
  {
   "cell_type": "code",
   "execution_count": null,
   "id": "e8184a98-c997-42c8-a2f5-ccd07474018f",
   "metadata": {},
   "outputs": [],
   "source": []
  }
 ],
 "metadata": {
  "kernelspec": {
   "display_name": "Python 3 (ipykernel)",
   "language": "python",
   "name": "python3"
  },
  "language_info": {
   "codemirror_mode": {
    "name": "ipython",
    "version": 3
   },
   "file_extension": ".py",
   "mimetype": "text/x-python",
   "name": "python",
   "nbconvert_exporter": "python",
   "pygments_lexer": "ipython3",
   "version": "3.10.8"
  }
 },
 "nbformat": 4,
 "nbformat_minor": 5
}
